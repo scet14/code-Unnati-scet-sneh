{
 "cells": [
  {
   "cell_type": "markdown",
   "id": "5752c17a",
   "metadata": {},
   "source": [
    "# Basic Math operation"
   ]
  },
  {
   "cell_type": "code",
   "execution_count": 1,
   "id": "3e410909",
   "metadata": {},
   "outputs": [
    {
     "data": {
      "text/plain": [
       "14"
      ]
     },
     "execution_count": 1,
     "metadata": {},
     "output_type": "execute_result"
    }
   ],
   "source": [
    "5+9"
   ]
  },
  {
   "cell_type": "code",
   "execution_count": 2,
   "id": "9b80e7f7",
   "metadata": {},
   "outputs": [
    {
     "data": {
      "text/plain": [
       "-1"
      ]
     },
     "execution_count": 2,
     "metadata": {},
     "output_type": "execute_result"
    }
   ],
   "source": [
    "8-9"
   ]
  },
  {
   "cell_type": "code",
   "execution_count": 3,
   "id": "c3da608e",
   "metadata": {},
   "outputs": [
    {
     "data": {
      "text/plain": [
       "63"
      ]
     },
     "execution_count": 3,
     "metadata": {},
     "output_type": "execute_result"
    }
   ],
   "source": [
    "9*7"
   ]
  },
  {
   "cell_type": "code",
   "execution_count": 4,
   "id": "3b6ba0f8",
   "metadata": {},
   "outputs": [
    {
     "data": {
      "text/plain": [
       "4"
      ]
     },
     "execution_count": 4,
     "metadata": {},
     "output_type": "execute_result"
    }
   ],
   "source": [
    "2**2"
   ]
  },
  {
   "cell_type": "code",
   "execution_count": 5,
   "id": "b3467249",
   "metadata": {},
   "outputs": [
    {
     "data": {
      "text/plain": [
       "4.0"
      ]
     },
     "execution_count": 5,
     "metadata": {},
     "output_type": "execute_result"
    }
   ],
   "source": [
    "5+5-3*6/3"
   ]
  },
  {
   "cell_type": "code",
   "execution_count": 6,
   "id": "99260e6b",
   "metadata": {},
   "outputs": [
    {
     "data": {
      "text/plain": [
       "33.5"
      ]
     },
     "execution_count": 6,
     "metadata": {},
     "output_type": "execute_result"
    }
   ],
   "source": [
    "3**3+7-2/4"
   ]
  },
  {
   "cell_type": "code",
   "execution_count": 7,
   "id": "5b22da0d",
   "metadata": {},
   "outputs": [
    {
     "data": {
      "text/plain": [
       "81"
      ]
     },
     "execution_count": 7,
     "metadata": {},
     "output_type": "execute_result"
    }
   ],
   "source": [
    "6*9+3**3"
   ]
  },
  {
   "cell_type": "code",
   "execution_count": 8,
   "id": "9bed0253",
   "metadata": {},
   "outputs": [
    {
     "name": "stdout",
     "output_type": "stream",
     "text": [
      "Namste SCET\n"
     ]
    }
   ],
   "source": [
    "#my first python program\n",
    "\n",
    "print(\"Namste SCET\")"
   ]
  },
  {
   "cell_type": "markdown",
   "id": "b110fe3f",
   "metadata": {},
   "source": [
    "# VARIABLE"
   ]
  },
  {
   "cell_type": "code",
   "execution_count": 9,
   "id": "da811f51",
   "metadata": {},
   "outputs": [],
   "source": [
    "a=58\n",
    "b=33.333333"
   ]
  },
  {
   "cell_type": "code",
   "execution_count": 10,
   "id": "e4fc657c",
   "metadata": {},
   "outputs": [
    {
     "data": {
      "text/plain": [
       "58"
      ]
     },
     "execution_count": 10,
     "metadata": {},
     "output_type": "execute_result"
    }
   ],
   "source": [
    "a"
   ]
  },
  {
   "cell_type": "code",
   "execution_count": 11,
   "id": "2898e551",
   "metadata": {},
   "outputs": [
    {
     "data": {
      "text/plain": [
       "33.333333"
      ]
     },
     "execution_count": 11,
     "metadata": {},
     "output_type": "execute_result"
    }
   ],
   "source": [
    "b"
   ]
  },
  {
   "cell_type": "code",
   "execution_count": 12,
   "id": "377e08ce",
   "metadata": {},
   "outputs": [
    {
     "name": "stdout",
     "output_type": "stream",
     "text": [
      "33.333333\n"
     ]
    }
   ],
   "source": [
    "print(b)"
   ]
  },
  {
   "cell_type": "code",
   "execution_count": 13,
   "id": "4396ae5f",
   "metadata": {},
   "outputs": [
    {
     "data": {
      "text/plain": [
       "int"
      ]
     },
     "execution_count": 13,
     "metadata": {},
     "output_type": "execute_result"
    }
   ],
   "source": [
    "type(a)"
   ]
  },
  {
   "cell_type": "code",
   "execution_count": 14,
   "id": "1cdc59c8",
   "metadata": {},
   "outputs": [
    {
     "data": {
      "text/plain": [
       "float"
      ]
     },
     "execution_count": 14,
     "metadata": {},
     "output_type": "execute_result"
    }
   ],
   "source": [
    "type(b)"
   ]
  },
  {
   "cell_type": "code",
   "execution_count": 15,
   "id": "3fe90ac2",
   "metadata": {},
   "outputs": [],
   "source": [
    "c=\"SCET\""
   ]
  },
  {
   "cell_type": "code",
   "execution_count": 16,
   "id": "30b64ac9",
   "metadata": {},
   "outputs": [
    {
     "data": {
      "text/plain": [
       "'SCET'"
      ]
     },
     "execution_count": 16,
     "metadata": {},
     "output_type": "execute_result"
    }
   ],
   "source": [
    "c"
   ]
  },
  {
   "cell_type": "code",
   "execution_count": 17,
   "id": "998c97e3",
   "metadata": {},
   "outputs": [
    {
     "data": {
      "text/plain": [
       "str"
      ]
     },
     "execution_count": 17,
     "metadata": {},
     "output_type": "execute_result"
    }
   ],
   "source": [
    "type(c)"
   ]
  },
  {
   "cell_type": "code",
   "execution_count": 18,
   "id": "41df3e6e",
   "metadata": {},
   "outputs": [],
   "source": [
    "d=True"
   ]
  },
  {
   "cell_type": "code",
   "execution_count": 19,
   "id": "879713d6",
   "metadata": {},
   "outputs": [
    {
     "data": {
      "text/plain": [
       "True"
      ]
     },
     "execution_count": 19,
     "metadata": {},
     "output_type": "execute_result"
    }
   ],
   "source": [
    "d"
   ]
  },
  {
   "cell_type": "code",
   "execution_count": 20,
   "id": "f9598c8c",
   "metadata": {},
   "outputs": [
    {
     "data": {
      "text/plain": [
       "bool"
      ]
     },
     "execution_count": 20,
     "metadata": {},
     "output_type": "execute_result"
    }
   ],
   "source": [
    "type(d)"
   ]
  },
  {
   "cell_type": "markdown",
   "id": "99fc51f3",
   "metadata": {},
   "source": [
    "# Math operation on Variable"
   ]
  },
  {
   "cell_type": "code",
   "execution_count": 21,
   "id": "cf1f1d45",
   "metadata": {},
   "outputs": [],
   "source": [
    "a=20\n",
    "b=16\n",
    "c=11\n",
    "d=8"
   ]
  },
  {
   "cell_type": "code",
   "execution_count": 22,
   "id": "8a21ec66",
   "metadata": {},
   "outputs": [
    {
     "data": {
      "text/plain": [
       "31"
      ]
     },
     "execution_count": 22,
     "metadata": {},
     "output_type": "execute_result"
    }
   ],
   "source": [
    "a+c"
   ]
  },
  {
   "cell_type": "code",
   "execution_count": 23,
   "id": "a39d1a00",
   "metadata": {},
   "outputs": [
    {
     "data": {
      "text/plain": [
       "3"
      ]
     },
     "execution_count": 23,
     "metadata": {},
     "output_type": "execute_result"
    }
   ],
   "source": [
    "c-d"
   ]
  },
  {
   "cell_type": "code",
   "execution_count": 24,
   "id": "af2d1479",
   "metadata": {},
   "outputs": [
    {
     "data": {
      "text/plain": [
       "128"
      ]
     },
     "execution_count": 24,
     "metadata": {},
     "output_type": "execute_result"
    }
   ],
   "source": [
    "b*d"
   ]
  },
  {
   "cell_type": "code",
   "execution_count": 25,
   "id": "b87e2c46",
   "metadata": {},
   "outputs": [
    {
     "data": {
      "text/plain": [
       "1.8181818181818181"
      ]
     },
     "execution_count": 25,
     "metadata": {},
     "output_type": "execute_result"
    }
   ],
   "source": [
    "a/c"
   ]
  },
  {
   "cell_type": "code",
   "execution_count": 26,
   "id": "9ade8b3c",
   "metadata": {},
   "outputs": [
    {
     "data": {
      "text/plain": [
       "29.0"
      ]
     },
     "execution_count": 26,
     "metadata": {},
     "output_type": "execute_result"
    }
   ],
   "source": [
    "a+c-b/d"
   ]
  },
  {
   "cell_type": "markdown",
   "id": "ce8d6494",
   "metadata": {},
   "source": [
    "# use input keyword to take input from user"
   ]
  },
  {
   "cell_type": "code",
   "execution_count": 30,
   "id": "33210921",
   "metadata": {},
   "outputs": [
    {
     "name": "stdout",
     "output_type": "stream",
     "text": [
      "Enter the value of x : 90\n"
     ]
    }
   ],
   "source": [
    "x=int(input(\"Enter the value of x : \"))"
   ]
  },
  {
   "cell_type": "code",
   "execution_count": 31,
   "id": "6022e666",
   "metadata": {},
   "outputs": [
    {
     "data": {
      "text/plain": [
       "90"
      ]
     },
     "execution_count": 31,
     "metadata": {},
     "output_type": "execute_result"
    }
   ],
   "source": [
    "x"
   ]
  },
  {
   "cell_type": "code",
   "execution_count": 32,
   "id": "20a5d9c5",
   "metadata": {},
   "outputs": [
    {
     "name": "stdout",
     "output_type": "stream",
     "text": [
      "Enter the value of x : 2\n",
      "Enter the value of y : 3\n",
      "8\n"
     ]
    }
   ],
   "source": [
    "x = int(input(\"Enter the value of x : \"))\n",
    "y = int(input(\"Enter the value of y : \"))\n",
    "z=x**y #power of x,y\n",
    "print(z)"
   ]
  },
  {
   "cell_type": "markdown",
   "id": "bb98971e",
   "metadata": {},
   "source": [
    "# String Concatenation"
   ]
  },
  {
   "cell_type": "code",
   "execution_count": 39,
   "id": "ecb2a37f",
   "metadata": {},
   "outputs": [],
   "source": [
    "str1=\"Sneh\"\n",
    "str2=\"Bhatt\"\n",
    "str3=\" \""
   ]
  },
  {
   "cell_type": "code",
   "execution_count": 34,
   "id": "c3588418",
   "metadata": {},
   "outputs": [
    {
     "data": {
      "text/plain": [
       "str"
      ]
     },
     "execution_count": 34,
     "metadata": {},
     "output_type": "execute_result"
    }
   ],
   "source": [
    "type(str2)"
   ]
  },
  {
   "cell_type": "code",
   "execution_count": 40,
   "id": "96e19303",
   "metadata": {},
   "outputs": [
    {
     "data": {
      "text/plain": [
       "'Sneh Bhatt'"
      ]
     },
     "execution_count": 40,
     "metadata": {},
     "output_type": "execute_result"
    }
   ],
   "source": [
    "str4= str1 + str3 + str2\n",
    "str4"
   ]
  },
  {
   "cell_type": "code",
   "execution_count": 41,
   "id": "0086ef62",
   "metadata": {},
   "outputs": [
    {
     "data": {
      "text/plain": [
       "'h'"
      ]
     },
     "execution_count": 41,
     "metadata": {},
     "output_type": "execute_result"
    }
   ],
   "source": [
    "#string slicing\n",
    "str4[3]"
   ]
  },
  {
   "cell_type": "code",
   "execution_count": 43,
   "id": "dc419f08",
   "metadata": {},
   "outputs": [
    {
     "data": {
      "text/plain": [
       "'Sneh'"
      ]
     },
     "execution_count": 43,
     "metadata": {},
     "output_type": "execute_result"
    }
   ],
   "source": [
    "str4[0:4]"
   ]
  },
  {
   "cell_type": "code",
   "execution_count": 44,
   "id": "0f6cb393",
   "metadata": {},
   "outputs": [
    {
     "data": {
      "text/plain": [
       "'Sne'"
      ]
     },
     "execution_count": 44,
     "metadata": {},
     "output_type": "execute_result"
    }
   ],
   "source": [
    "str4[:3]"
   ]
  },
  {
   "cell_type": "code",
   "execution_count": 45,
   "id": "09f5fd45",
   "metadata": {},
   "outputs": [
    {
     "data": {
      "text/plain": [
       "'h Bhatt'"
      ]
     },
     "execution_count": 45,
     "metadata": {},
     "output_type": "execute_result"
    }
   ],
   "source": [
    "str4[-7:]"
   ]
  },
  {
   "cell_type": "markdown",
   "id": "c1fc4fd2",
   "metadata": {},
   "source": [
    "# Tuples in Python"
   ]
  },
  {
   "cell_type": "code",
   "execution_count": 46,
   "id": "d2e95004",
   "metadata": {},
   "outputs": [],
   "source": [
    "tup1 = (\"scet\", 22,  \"bharat\", 45.5, \"surat\", 99)"
   ]
  },
  {
   "cell_type": "code",
   "execution_count": 47,
   "id": "6d78bc7c",
   "metadata": {},
   "outputs": [
    {
     "data": {
      "text/plain": [
       "('scet', 22, 'bharat', 45.5, 'surat', 99)"
      ]
     },
     "execution_count": 47,
     "metadata": {},
     "output_type": "execute_result"
    }
   ],
   "source": [
    "tup1"
   ]
  },
  {
   "cell_type": "code",
   "execution_count": 48,
   "id": "f3be2d98",
   "metadata": {},
   "outputs": [
    {
     "data": {
      "text/plain": [
       "tuple"
      ]
     },
     "execution_count": 48,
     "metadata": {},
     "output_type": "execute_result"
    }
   ],
   "source": [
    "type(tup1)"
   ]
  },
  {
   "cell_type": "code",
   "execution_count": 49,
   "id": "a5ebf685",
   "metadata": {},
   "outputs": [
    {
     "data": {
      "text/plain": [
       "45.5"
      ]
     },
     "execution_count": 49,
     "metadata": {},
     "output_type": "execute_result"
    }
   ],
   "source": [
    "tup1[3]"
   ]
  },
  {
   "cell_type": "code",
   "execution_count": 52,
   "id": "18ea3024",
   "metadata": {},
   "outputs": [
    {
     "data": {
      "text/plain": [
       "(22, 'bharat', 45.5)"
      ]
     },
     "execution_count": 52,
     "metadata": {},
     "output_type": "execute_result"
    }
   ],
   "source": [
    "tup1[1:4]"
   ]
  },
  {
   "cell_type": "code",
   "execution_count": 51,
   "id": "7fe28641",
   "metadata": {},
   "outputs": [
    {
     "data": {
      "text/plain": [
       "(45.5, 'surat', 99)"
      ]
     },
     "execution_count": 51,
     "metadata": {},
     "output_type": "execute_result"
    }
   ],
   "source": [
    "tup1[-3:]"
   ]
  },
  {
   "cell_type": "code",
   "execution_count": 53,
   "id": "5ff1fba2",
   "metadata": {},
   "outputs": [],
   "source": [
    "tup2 = (\"Electrical\", \"EC\", \"IC\")"
   ]
  },
  {
   "cell_type": "code",
   "execution_count": 54,
   "id": "505e6b35",
   "metadata": {},
   "outputs": [],
   "source": [
    "tup3 =tup1 + tup2"
   ]
  },
  {
   "cell_type": "code",
   "execution_count": 55,
   "id": "e9a5d4a6",
   "metadata": {},
   "outputs": [
    {
     "data": {
      "text/plain": [
       "('scet', 22, 'bharat', 45.5, 'surat', 99, 'Electrical', 'EC', 'IC')"
      ]
     },
     "execution_count": 55,
     "metadata": {},
     "output_type": "execute_result"
    }
   ],
   "source": [
    "tup3"
   ]
  },
  {
   "cell_type": "code",
   "execution_count": 56,
   "id": "4ba357d2",
   "metadata": {},
   "outputs": [
    {
     "data": {
      "text/plain": [
       "9"
      ]
     },
     "execution_count": 56,
     "metadata": {},
     "output_type": "execute_result"
    }
   ],
   "source": [
    "len(tup3)"
   ]
  },
  {
   "cell_type": "code",
   "execution_count": 57,
   "id": "2f47f0e7",
   "metadata": {},
   "outputs": [
    {
     "data": {
      "text/plain": [
       "list"
      ]
     },
     "execution_count": 57,
     "metadata": {},
     "output_type": "execute_result"
    }
   ],
   "source": [
    "lst1 = [\"scet\", 22,  \"bharat\", 45.5, \"surat\", 99]\n",
    "type(lst1)"
   ]
  },
  {
   "cell_type": "code",
   "execution_count": 58,
   "id": "5ac19dde",
   "metadata": {},
   "outputs": [],
   "source": [
    "lst1.remove(22)"
   ]
  },
  {
   "cell_type": "code",
   "execution_count": 59,
   "id": "f3fa75e4",
   "metadata": {},
   "outputs": [
    {
     "data": {
      "text/plain": [
       "['scet', 'bharat', 45.5, 'surat', 99]"
      ]
     },
     "execution_count": 59,
     "metadata": {},
     "output_type": "execute_result"
    }
   ],
   "source": [
    "lst1"
   ]
  },
  {
   "cell_type": "markdown",
   "id": "7298bea0",
   "metadata": {},
   "source": [
    "# Disctionary"
   ]
  },
  {
   "cell_type": "code",
   "execution_count": 60,
   "id": "6a00a85f",
   "metadata": {},
   "outputs": [],
   "source": [
    "dict1 = { \"university\" : \"GTU\", \"course\" : \"Electrical\", \"subject\" : \"python\"}"
   ]
  },
  {
   "cell_type": "code",
   "execution_count": 61,
   "id": "f08ee870",
   "metadata": {},
   "outputs": [
    {
     "data": {
      "text/plain": [
       "dict"
      ]
     },
     "execution_count": 61,
     "metadata": {},
     "output_type": "execute_result"
    }
   ],
   "source": [
    "type(dict1)"
   ]
  },
  {
   "cell_type": "code",
   "execution_count": 62,
   "id": "38fbcfa3",
   "metadata": {},
   "outputs": [
    {
     "data": {
      "text/plain": [
       "{'university': 'GTU', 'course': 'Electrical', 'subject': 'python'}"
      ]
     },
     "execution_count": 62,
     "metadata": {},
     "output_type": "execute_result"
    }
   ],
   "source": [
    "dict1"
   ]
  },
  {
   "cell_type": "code",
   "execution_count": 63,
   "id": "3c644073",
   "metadata": {},
   "outputs": [
    {
     "name": "stdout",
     "output_type": "stream",
     "text": [
      "dict_keys(['university', 'course', 'subject'])\n"
     ]
    }
   ],
   "source": [
    "#print only key values\n",
    "print(dict1.keys())"
   ]
  },
  {
   "cell_type": "code",
   "execution_count": 64,
   "id": "aa8e87b4",
   "metadata": {},
   "outputs": [
    {
     "name": "stdout",
     "output_type": "stream",
     "text": [
      "dict_values(['GTU', 'Electrical', 'python'])\n"
     ]
    }
   ],
   "source": [
    "#print only values\n",
    "print(dict1.values())"
   ]
  },
  {
   "cell_type": "code",
   "execution_count": 65,
   "id": "3c86fd36",
   "metadata": {},
   "outputs": [],
   "source": [
    "from math import pi"
   ]
  },
  {
   "cell_type": "code",
   "execution_count": 66,
   "id": "30d52e97",
   "metadata": {},
   "outputs": [
    {
     "data": {
      "text/plain": [
       "3.141592653589793"
      ]
     },
     "execution_count": 66,
     "metadata": {},
     "output_type": "execute_result"
    }
   ],
   "source": [
    "pi"
   ]
  },
  {
   "cell_type": "code",
   "execution_count": 69,
   "id": "c3b215ed",
   "metadata": {},
   "outputs": [
    {
     "data": {
      "text/plain": [
       "78.53981633974483"
      ]
     },
     "execution_count": 69,
     "metadata": {},
     "output_type": "execute_result"
    }
   ],
   "source": [
    "#Area of circle\n",
    "r=5\n",
    "area=pi*(r**2)\n",
    "area"
   ]
  },
  {
   "cell_type": "code",
   "execution_count": 70,
   "id": "a4921c23",
   "metadata": {},
   "outputs": [
    {
     "name": "stdout",
     "output_type": "stream",
     "text": [
      "0\n",
      "1\n",
      "2\n",
      "3\n",
      "4\n",
      "5\n",
      "6\n",
      "7\n",
      "8\n",
      "9\n"
     ]
    }
   ],
   "source": [
    "for i in range (10):\n",
    "    print(i)"
   ]
  },
  {
   "cell_type": "markdown",
   "id": "2795e80d",
   "metadata": {},
   "source": [
    "# Python conditional Statemante"
   ]
  },
  {
   "cell_type": "code",
   "execution_count": 73,
   "id": "0ffd8690",
   "metadata": {},
   "outputs": [
    {
     "name": "stdout",
     "output_type": "stream",
     "text": [
      "5 is a positive number\n"
     ]
    }
   ],
   "source": [
    "#If statement\n",
    "\n",
    "num=5\n",
    "if num > 0:\n",
    "    print (num, \"is a positive number\")"
   ]
  },
  {
   "cell_type": "code",
   "execution_count": 78,
   "id": "c7d43046",
   "metadata": {},
   "outputs": [
    {
     "name": "stdout",
     "output_type": "stream",
     "text": [
      "Negative Number\n"
     ]
    }
   ],
   "source": [
    "#If statement\n",
    "\n",
    "num=0\n",
    "if num > 0:\n",
    "    print (num, \"is a positive number\")\n",
    "else:\n",
    "        print (\"Negative Number\")"
   ]
  },
  {
   "cell_type": "code",
   "execution_count": 84,
   "id": "3fac3d9d",
   "metadata": {},
   "outputs": [
    {
     "name": "stdout",
     "output_type": "stream",
     "text": [
      "zero\n"
     ]
    }
   ],
   "source": [
    "#nested If\n",
    "\n",
    "num=0\n",
    "if num >= 0:\n",
    "    if num == 0:\n",
    "        print (\"zero\")\n",
    "    else:\n",
    "        print (\"positive Number\")\n",
    "else:\n",
    "        print (\"Negative Number\")"
   ]
  },
  {
   "cell_type": "code",
   "execution_count": null,
   "id": "9dcf847c",
   "metadata": {},
   "outputs": [],
   "source": []
  }
 ],
 "metadata": {
  "kernelspec": {
   "display_name": "Python 3 (ipykernel)",
   "language": "python",
   "name": "python3"
  },
  "language_info": {
   "codemirror_mode": {
    "name": "ipython",
    "version": 3
   },
   "file_extension": ".py",
   "mimetype": "text/x-python",
   "name": "python",
   "nbconvert_exporter": "python",
   "pygments_lexer": "ipython3",
   "version": "3.9.12"
  }
 },
 "nbformat": 4,
 "nbformat_minor": 5
}
