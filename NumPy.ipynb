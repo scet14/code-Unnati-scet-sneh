{
 "cells": [
  {
   "cell_type": "markdown",
   "id": "594c123f",
   "metadata": {},
   "source": [
    "# NumPy"
   ]
  },
  {
   "cell_type": "code",
   "execution_count": 1,
   "id": "c93bc383",
   "metadata": {},
   "outputs": [],
   "source": [
    "#import numpy library\n",
    "import numpy as np"
   ]
  },
  {
   "cell_type": "code",
   "execution_count": 4,
   "id": "47588063",
   "metadata": {},
   "outputs": [
    {
     "data": {
      "text/plain": [
       "array([[ 5,  6,  7,  8],\n",
       "       [ 9, 10, 11, 12]])"
      ]
     },
     "execution_count": 4,
     "metadata": {},
     "output_type": "execute_result"
    }
   ],
   "source": [
    "#create simple array from the list\n",
    "\n",
    "arr = np.array([[5,6,7,8],[9,10,11,12]])\n",
    "arr"
   ]
  },
  {
   "cell_type": "code",
   "execution_count": 5,
   "id": "822d027b",
   "metadata": {},
   "outputs": [
    {
     "data": {
      "text/plain": [
       "2"
      ]
     },
     "execution_count": 5,
     "metadata": {},
     "output_type": "execute_result"
    }
   ],
   "source": [
    "arr.ndim # dimantion"
   ]
  },
  {
   "cell_type": "code",
   "execution_count": 6,
   "id": "e37df229",
   "metadata": {},
   "outputs": [
    {
     "data": {
      "text/plain": [
       "(2, 4)"
      ]
     },
     "execution_count": 6,
     "metadata": {},
     "output_type": "execute_result"
    }
   ],
   "source": [
    "arr.shape # shape of array"
   ]
  },
  {
   "cell_type": "code",
   "execution_count": 7,
   "id": "b08a89a9",
   "metadata": {},
   "outputs": [
    {
     "data": {
      "text/plain": [
       "numpy.ndarray"
      ]
     },
     "execution_count": 7,
     "metadata": {},
     "output_type": "execute_result"
    }
   ],
   "source": [
    "type(arr)"
   ]
  },
  {
   "cell_type": "code",
   "execution_count": 10,
   "id": "bd7bd835",
   "metadata": {},
   "outputs": [
    {
     "data": {
      "text/plain": [
       "<memory at 0x0000028F00562450>"
      ]
     },
     "execution_count": 10,
     "metadata": {},
     "output_type": "execute_result"
    }
   ],
   "source": [
    "arr.data #memory location"
   ]
  },
  {
   "cell_type": "markdown",
   "id": "78cc2844",
   "metadata": {},
   "source": [
    "# Random Number Generater"
   ]
  },
  {
   "cell_type": "code",
   "execution_count": 13,
   "id": "e0bec273",
   "metadata": {},
   "outputs": [],
   "source": [
    "#import numpy library\n",
    "import numpy as np\n",
    "\n",
    "from numpy import random"
   ]
  },
  {
   "cell_type": "code",
   "execution_count": 16,
   "id": "88316e20",
   "metadata": {},
   "outputs": [
    {
     "data": {
      "text/plain": [
       "20"
      ]
     },
     "execution_count": 16,
     "metadata": {},
     "output_type": "execute_result"
    }
   ],
   "source": [
    "x= random.randint(100)\n",
    "x"
   ]
  },
  {
   "cell_type": "code",
   "execution_count": 17,
   "id": "2d8956df",
   "metadata": {},
   "outputs": [
    {
     "data": {
      "text/plain": [
       "array([0.83800928, 0.32405091, 0.96738851, 0.29921317, 0.98018273,\n",
       "       0.08752663, 0.54286262, 0.37922564, 0.0299454 , 0.09092801,\n",
       "       0.84417093, 0.04461391, 0.43559553, 0.24925226, 0.42128305,\n",
       "       0.43935518, 0.97760497, 0.87075727, 0.42755555, 0.74869614,\n",
       "       0.24779832, 0.15456909, 0.17724988, 0.66908815, 0.91323116,\n",
       "       0.61217372, 0.53129693, 0.43895711, 0.88972053, 0.55949687,\n",
       "       0.93456209, 0.93552481, 0.51590786, 0.53045493, 0.49057862,\n",
       "       0.6132481 , 0.37624321, 0.59522209, 0.16871694, 0.55865602,\n",
       "       0.87047521, 0.95093732, 0.36880806, 0.72840012, 0.42463291,\n",
       "       0.24485351, 0.12145341, 0.7266734 , 0.9320377 , 0.45441669,\n",
       "       0.75697111, 0.3470346 , 0.94959663, 0.58950494, 0.89211256,\n",
       "       0.95712676, 0.76037429, 0.51909276, 0.62557649, 0.33566238,\n",
       "       0.25239877, 0.42034288, 0.80554421, 0.63965873, 0.18393907,\n",
       "       0.33264446, 0.10991535, 0.63628373, 0.69495691, 0.6038257 ,\n",
       "       0.02103549, 0.85977562, 0.87841949, 0.74226995, 0.96719498,\n",
       "       0.355816  , 0.2277382 , 0.76608036, 0.16579812, 0.78134898,\n",
       "       0.27252957, 0.08642709, 0.91151232, 0.94579209, 0.75531194,\n",
       "       0.9822217 , 0.573758  , 0.05286005, 0.83228478, 0.15550387,\n",
       "       0.79175138, 0.63634164, 0.24456568, 0.01892325, 0.72312616,\n",
       "       0.5547111 , 0.85638224, 0.29766668, 0.14699874, 0.70337303])"
      ]
     },
     "execution_count": 17,
     "metadata": {},
     "output_type": "execute_result"
    }
   ],
   "source": [
    "x= random.rand(100)\n",
    "x"
   ]
  },
  {
   "cell_type": "code",
   "execution_count": 18,
   "id": "c897aafd",
   "metadata": {},
   "outputs": [
    {
     "data": {
      "text/plain": [
       "array([89, 33,  6, 99, 10])"
      ]
     },
     "execution_count": 18,
     "metadata": {},
     "output_type": "execute_result"
    }
   ],
   "source": [
    "x= random.randint(100, size=(5))\n",
    "x"
   ]
  },
  {
   "cell_type": "code",
   "execution_count": 19,
   "id": "a8f34ac0",
   "metadata": {},
   "outputs": [
    {
     "data": {
      "text/plain": [
       "array([[57, 81, 87],\n",
       "       [15, 87, 31],\n",
       "       [99, 43, 18],\n",
       "       [35, 97, 10],\n",
       "       [ 7, 46, 41]])"
      ]
     },
     "execution_count": 19,
     "metadata": {},
     "output_type": "execute_result"
    }
   ],
   "source": [
    "x= random.randint(100, size=(5,3))\n",
    "x"
   ]
  },
  {
   "cell_type": "code",
   "execution_count": 20,
   "id": "24e9ed7e",
   "metadata": {},
   "outputs": [],
   "source": [
    "#a=1D arry,with 7 integer\n",
    "#b=1D arry,with 7 integer\n",
    "#math operation."
   ]
  },
  {
   "cell_type": "code",
   "execution_count": 23,
   "id": "ac6b80c1",
   "metadata": {},
   "outputs": [
    {
     "data": {
      "text/plain": [
       "array([32, 74,  0, 77, 55, 31, 66])"
      ]
     },
     "execution_count": 23,
     "metadata": {},
     "output_type": "execute_result"
    }
   ],
   "source": [
    "x= random.randint(100, size=(7))\n",
    "y= random.randint(50, size=(7))\n",
    "x"
   ]
  },
  {
   "cell_type": "code",
   "execution_count": 25,
   "id": "7d5aa89e",
   "metadata": {},
   "outputs": [
    {
     "data": {
      "text/plain": [
       "array([22, 40, 38, 45, 10, 24, 21])"
      ]
     },
     "execution_count": 25,
     "metadata": {},
     "output_type": "execute_result"
    }
   ],
   "source": [
    "y"
   ]
  },
  {
   "cell_type": "code",
   "execution_count": 26,
   "id": "a9928d82",
   "metadata": {},
   "outputs": [
    {
     "data": {
      "text/plain": [
       "array([ 54, 114,  38, 122,  65,  55,  87])"
      ]
     },
     "execution_count": 26,
     "metadata": {},
     "output_type": "execute_result"
    }
   ],
   "source": [
    "x+y"
   ]
  },
  {
   "cell_type": "code",
   "execution_count": 27,
   "id": "f070b356",
   "metadata": {},
   "outputs": [
    {
     "data": {
      "text/plain": [
       "array([1.45454545, 1.85      , 0.        , 1.71111111, 5.5       ,\n",
       "       1.29166667, 3.14285714])"
      ]
     },
     "execution_count": 27,
     "metadata": {},
     "output_type": "execute_result"
    }
   ],
   "source": [
    "x/y"
   ]
  },
  {
   "cell_type": "code",
   "execution_count": 28,
   "id": "f2fa62b0",
   "metadata": {},
   "outputs": [
    {
     "data": {
      "text/plain": [
       "array([          0,           0,           1,   827793981,  2006722247,\n",
       "       -2010103841,           0], dtype=int32)"
      ]
     },
     "execution_count": 28,
     "metadata": {},
     "output_type": "execute_result"
    }
   ],
   "source": [
    "x**x"
   ]
  },
  {
   "cell_type": "code",
   "execution_count": 29,
   "id": "e4127594",
   "metadata": {},
   "outputs": [
    {
     "data": {
      "text/plain": [
       "array([ 10,  34, -38,  32,  45,   7,  45])"
      ]
     },
     "execution_count": 29,
     "metadata": {},
     "output_type": "execute_result"
    }
   ],
   "source": [
    "x-y"
   ]
  },
  {
   "cell_type": "markdown",
   "id": "3b5796e8",
   "metadata": {},
   "source": [
    "# Matrix in NumPy"
   ]
  },
  {
   "cell_type": "code",
   "execution_count": 31,
   "id": "78612ee8",
   "metadata": {},
   "outputs": [
    {
     "data": {
      "text/plain": [
       "matrix([[1, 2],\n",
       "        [3, 4]])"
      ]
     },
     "execution_count": 31,
     "metadata": {},
     "output_type": "execute_result"
    }
   ],
   "source": [
    "a=np.matrix('1 2; 3 4')\n",
    "a"
   ]
  },
  {
   "cell_type": "code",
   "execution_count": 33,
   "id": "36794a79",
   "metadata": {},
   "outputs": [
    {
     "data": {
      "text/plain": [
       "matrix([[1, 2, 3],\n",
       "        [4, 5, 6],\n",
       "        [7, 8, 9]])"
      ]
     },
     "execution_count": 33,
     "metadata": {},
     "output_type": "execute_result"
    }
   ],
   "source": [
    "a=np.matrix('1 2 3; 4 5 6; 7 8 9')\n",
    "a"
   ]
  },
  {
   "cell_type": "code",
   "execution_count": 36,
   "id": "86fddac4",
   "metadata": {},
   "outputs": [
    {
     "data": {
      "text/plain": [
       "matrix([[1, 2, 3],\n",
       "        [7, 8, 9]])"
      ]
     },
     "execution_count": 36,
     "metadata": {},
     "output_type": "execute_result"
    }
   ],
   "source": [
    "b=np.matrix([[1,2,3],[7,8,9]])\n",
    "b"
   ]
  },
  {
   "cell_type": "markdown",
   "id": "c980d4cc",
   "metadata": {},
   "source": [
    "# Measure of Central Tendency"
   ]
  },
  {
   "cell_type": "code",
   "execution_count": 37,
   "id": "56f5db63",
   "metadata": {},
   "outputs": [
    {
     "data": {
      "text/plain": [
       "array([[ 5,  6,  7],\n",
       "       [ 9, 10, 11],\n",
       "       [ 8,  4,  3]])"
      ]
     },
     "execution_count": 37,
     "metadata": {},
     "output_type": "execute_result"
    }
   ],
   "source": [
    "arr = np.array([[5,6,7],[9,10,11],[8,4,3]])\n",
    "arr"
   ]
  },
  {
   "cell_type": "code",
   "execution_count": 38,
   "id": "d89bbd7b",
   "metadata": {},
   "outputs": [
    {
     "data": {
      "text/plain": [
       "3"
      ]
     },
     "execution_count": 38,
     "metadata": {},
     "output_type": "execute_result"
    }
   ],
   "source": [
    "np.amin(arr)"
   ]
  },
  {
   "cell_type": "code",
   "execution_count": 39,
   "id": "de7ec2fc",
   "metadata": {},
   "outputs": [
    {
     "data": {
      "text/plain": [
       "11"
      ]
     },
     "execution_count": 39,
     "metadata": {},
     "output_type": "execute_result"
    }
   ],
   "source": [
    "np.amax(arr)"
   ]
  },
  {
   "cell_type": "code",
   "execution_count": 40,
   "id": "07c3f280",
   "metadata": {},
   "outputs": [
    {
     "data": {
      "text/plain": [
       "7.0"
      ]
     },
     "execution_count": 40,
     "metadata": {},
     "output_type": "execute_result"
    }
   ],
   "source": [
    "np.mean(arr)"
   ]
  },
  {
   "cell_type": "code",
   "execution_count": 41,
   "id": "dc010e2b",
   "metadata": {},
   "outputs": [
    {
     "data": {
      "text/plain": [
       "7.0"
      ]
     },
     "execution_count": 41,
     "metadata": {},
     "output_type": "execute_result"
    }
   ],
   "source": [
    "np.median(arr)"
   ]
  },
  {
   "cell_type": "code",
   "execution_count": 43,
   "id": "94ecda95",
   "metadata": {},
   "outputs": [
    {
     "data": {
      "text/plain": [
       "2.581988897471611"
      ]
     },
     "execution_count": 43,
     "metadata": {},
     "output_type": "execute_result"
    }
   ],
   "source": [
    "np.std(arr) #standard deviation"
   ]
  },
  {
   "cell_type": "code",
   "execution_count": 44,
   "id": "5abb1cfe",
   "metadata": {},
   "outputs": [
    {
     "data": {
      "text/plain": [
       "6.666666666666667"
      ]
     },
     "execution_count": 44,
     "metadata": {},
     "output_type": "execute_result"
    }
   ],
   "source": [
    "np.var(arr)"
   ]
  },
  {
   "cell_type": "code",
   "execution_count": null,
   "id": "5dc6e32e",
   "metadata": {},
   "outputs": [],
   "source": []
  }
 ],
 "metadata": {
  "kernelspec": {
   "display_name": "Python 3 (ipykernel)",
   "language": "python",
   "name": "python3"
  },
  "language_info": {
   "codemirror_mode": {
    "name": "ipython",
    "version": 3
   },
   "file_extension": ".py",
   "mimetype": "text/x-python",
   "name": "python",
   "nbconvert_exporter": "python",
   "pygments_lexer": "ipython3",
   "version": "3.9.12"
  }
 },
 "nbformat": 4,
 "nbformat_minor": 5
}
